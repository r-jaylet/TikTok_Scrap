{
 "cells": [
  {
   "cell_type": "code",
   "execution_count": 1,
   "id": "accomplished-morrison",
   "metadata": {},
   "outputs": [
    {
     "name": "stderr",
     "output_type": "stream",
     "text": [
      "C:\\Users\\remij\\Miniconda3\\lib\\site-packages\\numpy\\_distributor_init.py:32: UserWarning: loaded more than 1 DLL from .libs:\n",
      "C:\\Users\\remij\\Miniconda3\\lib\\site-packages\\numpy\\.libs\\libopenblas.PYQHXLVVQ7VESDPUVUADXEVJOBGHJPAY.gfortran-win_amd64.dll\n",
      "C:\\Users\\remij\\Miniconda3\\lib\\site-packages\\numpy\\.libs\\libopenblas.XWYDX2IKJW2NMTWSFYNGFUWKQU3LYTCZ.gfortran-win_amd64.dll\n",
      "  stacklevel=1)\n"
     ]
    }
   ],
   "source": [
    "import numpy as np\n",
    "import pandas as pd\n",
    "from scipy.sparse import csr_matrix\n",
    "import ast\n",
    "from scipy import sparse"
   ]
  },
  {
   "cell_type": "code",
   "execution_count": 2,
   "id": "median-permit",
   "metadata": {},
   "outputs": [],
   "source": [
    "from IPython.display import SVG\n",
    "from sknetwork.embedding.force_atlas import ForceAtlas\n",
    "from sknetwork.visualization import svg_graph"
   ]
  },
  {
   "cell_type": "code",
   "execution_count": 3,
   "id": "joined-contract",
   "metadata": {},
   "outputs": [],
   "source": [
    "data = pd.read_csv('test_df2.csv')"
   ]
  },
  {
   "cell_type": "code",
   "execution_count": 4,
   "id": "directed-dress",
   "metadata": {},
   "outputs": [
    {
     "data": {
      "text/plain": [
       "0           ['judesmithmusic', 'fender', 'dangelicony']\n",
       "1     ['glenwoodcrowe', 'mandagracemusic', 'ronartis...\n",
       "2     ['jonah.nilsson', 'justinbieber', 'jacobcollier']\n",
       "3     ['simplebluesboy', 'l.a.cendon', 'theguitarpig...\n",
       "4                                  ['shannonlcallihan']\n",
       "5     ['adamusic_', 'fionakida', 'aneesastrings', 't...\n",
       "6          ['misterblair', 'johnmarknelson', 'fibulaa']\n",
       "7     ['jacktjames_', 'johnmarknelson', 'liannefrank...\n",
       "8     ['johnmarknelson', 'thunderstormartis', 'hydro...\n",
       "9                             ['tiktok', 'charlieputh']\n",
       "10    ['dangelicony', 'wildwomanpussypower', 'joshpl...\n",
       "11    ['johnmarknelson', 'dangelicony', 'romabulakho...\n",
       "12                                      ['dangelicony']\n",
       "13                  ['dangelicony', 'nicole_cerminara']\n",
       "14                                           ['fender']\n",
       "15                                                   []\n",
       "16                                                   []\n",
       "17                 ['ellenonceagain', 'simplebluesboy']\n",
       "18                                        ['astnmusic']\n",
       "19                                                   []\n",
       "20                                                   []\n",
       "21                                      ['dangelicony']\n",
       "22             ['boog357', 'x2foo2', 'zamiralikesfood']\n",
       "Name: collabs, dtype: object"
      ]
     },
     "execution_count": 4,
     "metadata": {},
     "output_type": "execute_result"
    }
   ],
   "source": [
    "data.collabs"
   ]
  },
  {
   "cell_type": "code",
   "execution_count": 5,
   "id": "billion-attendance",
   "metadata": {},
   "outputs": [],
   "source": [
    "data.reset_index(level=0, inplace=True)"
   ]
  },
  {
   "cell_type": "code",
   "execution_count": 6,
   "id": "serious-harvey",
   "metadata": {},
   "outputs": [],
   "source": [
    "def convert_to_adjacency(data):\n",
    "    L = []\n",
    "    for i in range(len(data)):\n",
    "        l = []\n",
    "        for cand in (ast.literal_eval(data.collabs[i])):\n",
    "            if cand in list(data.user_name):\n",
    "                l.append(int(data[data['user_name'] == cand]['index']))\n",
    "        L.append(l)\n",
    "    return L"
   ]
  },
  {
   "cell_type": "code",
   "execution_count": 7,
   "id": "lyric-swaziland",
   "metadata": {},
   "outputs": [],
   "source": [
    "def convert_to_matrix(graph):\n",
    "    matrix = []\n",
    "    for i in range(len(graph)): \n",
    "        matrix.append([0]*len(graph))\n",
    "        for j in graph[i]:\n",
    "            matrix[i][j] = 1\n",
    "    return matrix"
   ]
  },
  {
   "cell_type": "code",
   "execution_count": 8,
   "id": "derived-nebraska",
   "metadata": {},
   "outputs": [
    {
     "data": {
      "image/svg+xml": [
       "<svg height=\"340\" width=\"440\" xmlns=\"http://www.w3.org/2000/svg\">\n",
       "<path d=\"M 277 76 199 125\" stroke=\"black\" stroke-width=\"1\"/>\n",
       "<path d=\"M 81 132 135 131\" stroke=\"black\" stroke-width=\"1\"/>\n",
       "<path d=\"M 373 20 351 42\" stroke=\"black\" stroke-width=\"1\"/>\n",
       "<path d=\"M 181 150 180 168\" stroke=\"black\" stroke-width=\"1\"/>\n",
       "<path d=\"M 181 150 199 125\" stroke=\"black\" stroke-width=\"1\"/>\n",
       "<path d=\"M 218 149 199 125\" stroke=\"black\" stroke-width=\"1\"/>\n",
       "<path d=\"M 222 99 211 61\" stroke=\"black\" stroke-width=\"1\"/>\n",
       "<path d=\"M 222 99 164 86\" stroke=\"black\" stroke-width=\"1\"/>\n",
       "<path d=\"M 222 99 178 66\" stroke=\"black\" stroke-width=\"1\"/>\n",
       "<path d=\"M 222 99 199 125\" stroke=\"black\" stroke-width=\"1\"/>\n",
       "<path d=\"M 222 99 311 132\" stroke=\"black\" stroke-width=\"1\"/>\n",
       "<path d=\"M 135 131 81 132\" stroke=\"black\" stroke-width=\"1\"/>\n",
       "<path d=\"M 135 131 199 125\" stroke=\"black\" stroke-width=\"1\"/>\n",
       "<path d=\"M 344 150 311 132\" stroke=\"black\" stroke-width=\"1\"/>\n",
       "<path d=\"M 364 127 420 122\" stroke=\"black\" stroke-width=\"1\"/>\n",
       "<path d=\"M 364 127 311 132\" stroke=\"black\" stroke-width=\"1\"/>\n",
       "<path d=\"M 316 160 311 132\" stroke=\"black\" stroke-width=\"1\"/>\n",
       "<path d=\"M 351 42 409 35\" stroke=\"black\" stroke-width=\"1\"/>\n",
       "<path d=\"M 351 42 373 20\" stroke=\"black\" stroke-width=\"1\"/>\n",
       "<path d=\"M 284 51 277 76\" stroke=\"black\" stroke-width=\"1\"/>\n",
       "<path d=\"M 199 125 181 150\" stroke=\"black\" stroke-width=\"1\"/>\n",
       "<path d=\"M 199 125 218 149\" stroke=\"black\" stroke-width=\"1\"/>\n",
       "<path d=\"M 199 125 222 99\" stroke=\"black\" stroke-width=\"1\"/>\n",
       "<path d=\"M 199 125 135 131\" stroke=\"black\" stroke-width=\"1\"/>\n",
       "<path d=\"M 20 310 50 320\" stroke=\"black\" stroke-width=\"1\"/>\n",
       "<path d=\"M 311 132 344 150\" stroke=\"black\" stroke-width=\"1\"/>\n",
       "<path d=\"M 311 132 364 127\" stroke=\"black\" stroke-width=\"1\"/>\n",
       "<path d=\"M 311 132 316 160\" stroke=\"black\" stroke-width=\"1\"/>\n",
       "<path d=\"M 277 76 351 42\" stroke=\"black\" stroke-width=\"1\"/>\n",
       "<path d=\"M 277 76 284 51\" stroke=\"black\" stroke-width=\"1\"/>\n",
       "<path d=\"M 81 132 27 128\" stroke=\"black\" stroke-width=\"1\"/>\n",
       "<path d=\"M 180 168 199 125\" stroke=\"black\" stroke-width=\"1\"/>\n",
       "<circle cx=\"277\" cy=\"76\" r=\"7.0\" style=\"fill:gray;stroke:black;stroke-width:1.0\"/>\n",
       "<circle cx=\"311\" cy=\"132\" r=\"7.0\" style=\"fill:gray;stroke:black;stroke-width:1.0\"/>\n",
       "<circle cx=\"20\" cy=\"310\" r=\"7.0\" style=\"fill:gray;stroke:black;stroke-width:1.0\"/>\n",
       "<circle cx=\"199\" cy=\"125\" r=\"7.0\" style=\"fill:gray;stroke:black;stroke-width:1.0\"/>\n",
       "<circle cx=\"284\" cy=\"51\" r=\"7.0\" style=\"fill:gray;stroke:black;stroke-width:1.0\"/>\n",
       "<circle cx=\"351\" cy=\"42\" r=\"7.0\" style=\"fill:gray;stroke:black;stroke-width:1.0\"/>\n",
       "<circle cx=\"316\" cy=\"160\" r=\"7.0\" style=\"fill:gray;stroke:black;stroke-width:1.0\"/>\n",
       "<circle cx=\"364\" cy=\"127\" r=\"7.0\" style=\"fill:gray;stroke:black;stroke-width:1.0\"/>\n",
       "<circle cx=\"344\" cy=\"150\" r=\"7.0\" style=\"fill:gray;stroke:black;stroke-width:1.0\"/>\n",
       "<circle cx=\"50\" cy=\"320\" r=\"7.0\" style=\"fill:gray;stroke:black;stroke-width:1.0\"/>\n",
       "<circle cx=\"135\" cy=\"131\" r=\"7.0\" style=\"fill:gray;stroke:black;stroke-width:1.0\"/>\n",
       "<circle cx=\"222\" cy=\"99\" r=\"7.0\" style=\"fill:gray;stroke:black;stroke-width:1.0\"/>\n",
       "<circle cx=\"218\" cy=\"149\" r=\"7.0\" style=\"fill:gray;stroke:black;stroke-width:1.0\"/>\n",
       "<circle cx=\"181\" cy=\"150\" r=\"7.0\" style=\"fill:gray;stroke:black;stroke-width:1.0\"/>\n",
       "<circle cx=\"373\" cy=\"20\" r=\"7.0\" style=\"fill:gray;stroke:black;stroke-width:1.0\"/>\n",
       "<circle cx=\"409\" cy=\"35\" r=\"7.0\" style=\"fill:gray;stroke:black;stroke-width:1.0\"/>\n",
       "<circle cx=\"420\" cy=\"122\" r=\"7.0\" style=\"fill:gray;stroke:black;stroke-width:1.0\"/>\n",
       "<circle cx=\"81\" cy=\"132\" r=\"7.0\" style=\"fill:gray;stroke:black;stroke-width:1.0\"/>\n",
       "<circle cx=\"178\" cy=\"66\" r=\"7.0\" style=\"fill:gray;stroke:black;stroke-width:1.0\"/>\n",
       "<circle cx=\"164\" cy=\"86\" r=\"7.0\" style=\"fill:gray;stroke:black;stroke-width:1.0\"/>\n",
       "<circle cx=\"211\" cy=\"61\" r=\"7.0\" style=\"fill:gray;stroke:black;stroke-width:1.0\"/>\n",
       "<circle cx=\"180\" cy=\"168\" r=\"7.0\" style=\"fill:gray;stroke:black;stroke-width:1.0\"/>\n",
       "<circle cx=\"27\" cy=\"128\" r=\"7.0\" style=\"fill:gray;stroke:black;stroke-width:1.0\"/>\n",
       "</svg>"
      ],
      "text/plain": [
       "<IPython.core.display.SVG object>"
      ]
     },
     "execution_count": 8,
     "metadata": {},
     "output_type": "execute_result"
    }
   ],
   "source": [
    "adjacency = convert_to_matrix(convert_to_adjacency(data))\n",
    "adjacency = sparse.csr_matrix(adjacency)\n",
    "image = svg_graph(adjacency)\n",
    "SVG(image)"
   ]
  },
  {
   "cell_type": "code",
   "execution_count": 9,
   "id": "steady-smile",
   "metadata": {},
   "outputs": [
    {
     "data": {
      "image/svg+xml": [
       "<svg height=\"340\" width=\"440\" xmlns=\"http://www.w3.org/2000/svg\">\n",
       "<path d=\"M 311 120 262 60\" stroke=\"black\" stroke-width=\"1\"/>\n",
       "<path d=\"M 398 138 232 71\" stroke=\"black\" stroke-width=\"1\"/>\n",
       "<path d=\"M 228 242 316 229\" stroke=\"black\" stroke-width=\"1\"/>\n",
       "<path d=\"M 318 20 305 32\" stroke=\"black\" stroke-width=\"1\"/>\n",
       "<path d=\"M 318 20 262 60\" stroke=\"black\" stroke-width=\"1\"/>\n",
       "<path d=\"M 259 126 262 60\" stroke=\"black\" stroke-width=\"1\"/>\n",
       "<path d=\"M 110 193 147 217\" stroke=\"black\" stroke-width=\"1\"/>\n",
       "<path d=\"M 110 193 167 192\" stroke=\"black\" stroke-width=\"1\"/>\n",
       "<path d=\"M 110 193 74 175\" stroke=\"black\" stroke-width=\"1\"/>\n",
       "<path d=\"M 110 193 262 60\" stroke=\"black\" stroke-width=\"1\"/>\n",
       "<path d=\"M 110 193 122 284\" stroke=\"black\" stroke-width=\"1\"/>\n",
       "<path d=\"M 232 71 398 138\" stroke=\"black\" stroke-width=\"1\"/>\n",
       "<path d=\"M 232 71 262 60\" stroke=\"black\" stroke-width=\"1\"/>\n",
       "<path d=\"M 164 320 122 284\" stroke=\"black\" stroke-width=\"1\"/>\n",
       "<path d=\"M 231 251 236 187\" stroke=\"black\" stroke-width=\"1\"/>\n",
       "<path d=\"M 231 251 122 284\" stroke=\"black\" stroke-width=\"1\"/>\n",
       "<path d=\"M 37 246 122 284\" stroke=\"black\" stroke-width=\"1\"/>\n",
       "<path d=\"M 316 229 285 254\" stroke=\"black\" stroke-width=\"1\"/>\n",
       "<path d=\"M 316 229 228 242\" stroke=\"black\" stroke-width=\"1\"/>\n",
       "<path d=\"M 216 86 311 120\" stroke=\"black\" stroke-width=\"1\"/>\n",
       "<path d=\"M 262 60 318 20\" stroke=\"black\" stroke-width=\"1\"/>\n",
       "<path d=\"M 262 60 259 126\" stroke=\"black\" stroke-width=\"1\"/>\n",
       "<path d=\"M 262 60 110 193\" stroke=\"black\" stroke-width=\"1\"/>\n",
       "<path d=\"M 262 60 232 71\" stroke=\"black\" stroke-width=\"1\"/>\n",
       "<path d=\"M 21 132 20 133\" stroke=\"black\" stroke-width=\"1\"/>\n",
       "<path d=\"M 122 284 164 320\" stroke=\"black\" stroke-width=\"1\"/>\n",
       "<path d=\"M 122 284 231 251\" stroke=\"black\" stroke-width=\"1\"/>\n",
       "<path d=\"M 122 284 37 246\" stroke=\"black\" stroke-width=\"1\"/>\n",
       "<path d=\"M 311 120 316 229\" stroke=\"black\" stroke-width=\"1\"/>\n",
       "<path d=\"M 311 120 216 86\" stroke=\"black\" stroke-width=\"1\"/>\n",
       "<path d=\"M 398 138 420 172\" stroke=\"black\" stroke-width=\"1\"/>\n",
       "<path d=\"M 305 32 262 60\" stroke=\"black\" stroke-width=\"1\"/>\n",
       "<circle cx=\"311\" cy=\"120\" r=\"7.0\" style=\"fill:gray;stroke:black;stroke-width:1.0\"/>\n",
       "<circle cx=\"122\" cy=\"284\" r=\"7.0\" style=\"fill:gray;stroke:black;stroke-width:1.0\"/>\n",
       "<circle cx=\"21\" cy=\"132\" r=\"7.0\" style=\"fill:gray;stroke:black;stroke-width:1.0\"/>\n",
       "<circle cx=\"262\" cy=\"60\" r=\"7.0\" style=\"fill:gray;stroke:black;stroke-width:1.0\"/>\n",
       "<circle cx=\"216\" cy=\"86\" r=\"7.0\" style=\"fill:gray;stroke:black;stroke-width:1.0\"/>\n",
       "<circle cx=\"316\" cy=\"229\" r=\"7.0\" style=\"fill:gray;stroke:black;stroke-width:1.0\"/>\n",
       "<circle cx=\"37\" cy=\"246\" r=\"7.0\" style=\"fill:gray;stroke:black;stroke-width:1.0\"/>\n",
       "<circle cx=\"231\" cy=\"251\" r=\"7.0\" style=\"fill:gray;stroke:black;stroke-width:1.0\"/>\n",
       "<circle cx=\"164\" cy=\"320\" r=\"7.0\" style=\"fill:gray;stroke:black;stroke-width:1.0\"/>\n",
       "<circle cx=\"20\" cy=\"133\" r=\"7.0\" style=\"fill:gray;stroke:black;stroke-width:1.0\"/>\n",
       "<circle cx=\"232\" cy=\"71\" r=\"7.0\" style=\"fill:gray;stroke:black;stroke-width:1.0\"/>\n",
       "<circle cx=\"110\" cy=\"193\" r=\"7.0\" style=\"fill:gray;stroke:black;stroke-width:1.0\"/>\n",
       "<circle cx=\"259\" cy=\"126\" r=\"7.0\" style=\"fill:gray;stroke:black;stroke-width:1.0\"/>\n",
       "<circle cx=\"318\" cy=\"20\" r=\"7.0\" style=\"fill:gray;stroke:black;stroke-width:1.0\"/>\n",
       "<circle cx=\"228\" cy=\"242\" r=\"7.0\" style=\"fill:gray;stroke:black;stroke-width:1.0\"/>\n",
       "<circle cx=\"285\" cy=\"254\" r=\"7.0\" style=\"fill:gray;stroke:black;stroke-width:1.0\"/>\n",
       "<circle cx=\"236\" cy=\"187\" r=\"7.0\" style=\"fill:gray;stroke:black;stroke-width:1.0\"/>\n",
       "<circle cx=\"398\" cy=\"138\" r=\"7.0\" style=\"fill:gray;stroke:black;stroke-width:1.0\"/>\n",
       "<circle cx=\"74\" cy=\"175\" r=\"7.0\" style=\"fill:gray;stroke:black;stroke-width:1.0\"/>\n",
       "<circle cx=\"167\" cy=\"192\" r=\"7.0\" style=\"fill:gray;stroke:black;stroke-width:1.0\"/>\n",
       "<circle cx=\"147\" cy=\"217\" r=\"7.0\" style=\"fill:gray;stroke:black;stroke-width:1.0\"/>\n",
       "<circle cx=\"305\" cy=\"32\" r=\"7.0\" style=\"fill:gray;stroke:black;stroke-width:1.0\"/>\n",
       "<circle cx=\"420\" cy=\"172\" r=\"7.0\" style=\"fill:gray;stroke:black;stroke-width:1.0\"/>\n",
       "</svg>"
      ],
      "text/plain": [
       "<IPython.core.display.SVG object>"
      ]
     },
     "execution_count": 9,
     "metadata": {},
     "output_type": "execute_result"
    }
   ],
   "source": [
    "forceatlas2 = ForceAtlas()\n",
    "embedding = forceatlas2.fit_transform(adjacency)\n",
    "image = svg_graph(adjacency, embedding)\n",
    "SVG(image)"
   ]
  }
 ],
 "metadata": {
  "kernelspec": {
   "display_name": "Python 3",
   "language": "python",
   "name": "python3"
  },
  "language_info": {
   "codemirror_mode": {
    "name": "ipython",
    "version": 3
   },
   "file_extension": ".py",
   "mimetype": "text/x-python",
   "name": "python",
   "nbconvert_exporter": "python",
   "pygments_lexer": "ipython3",
   "version": "3.7.3"
  }
 },
 "nbformat": 4,
 "nbformat_minor": 5
}
