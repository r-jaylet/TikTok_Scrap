{
 "cells": [
  {
   "cell_type": "code",
   "execution_count": 2,
   "id": "numerous-attendance",
   "metadata": {},
   "outputs": [],
   "source": [
    "import pandas as pd\n",
    "import numpy as np\n",
    "import ast\n",
    "from collections import Counter\n",
    "import matplotlib.pyplot as plt\n",
    "import seaborn"
   ]
  },
  {
   "cell_type": "code",
   "execution_count": 3,
   "id": "beginning-sandwich",
   "metadata": {},
   "outputs": [],
   "source": [
    "seaborn.set()"
   ]
  },
  {
   "cell_type": "code",
   "execution_count": 4,
   "id": "alive-setting",
   "metadata": {},
   "outputs": [
    {
     "data": {
      "text/html": [
       "<div>\n",
       "<style scoped>\n",
       "    .dataframe tbody tr th:only-of-type {\n",
       "        vertical-align: middle;\n",
       "    }\n",
       "\n",
       "    .dataframe tbody tr th {\n",
       "        vertical-align: top;\n",
       "    }\n",
       "\n",
       "    .dataframe thead th {\n",
       "        text-align: right;\n",
       "    }\n",
       "</style>\n",
       "<table border=\"1\" class=\"dataframe\">\n",
       "  <thead>\n",
       "    <tr style=\"text-align: right;\">\n",
       "      <th></th>\n",
       "      <th>user_name</th>\n",
       "      <th>signature</th>\n",
       "      <th>verified</th>\n",
       "      <th>basic_stats</th>\n",
       "      <th>collabs</th>\n",
       "      <th>music_collabs</th>\n",
       "      <th>hashtags</th>\n",
       "    </tr>\n",
       "  </thead>\n",
       "  <tbody>\n",
       "    <tr>\n",
       "      <th>0</th>\n",
       "      <td>benedictquinn</td>\n",
       "      <td>oh hey!\\r\\nguitarist and producer \\r\\ngo follo...</td>\n",
       "      <td>False</td>\n",
       "      <td>follower_count : 814\\nfollowing_count : 143\\nl...</td>\n",
       "      <td>jasmineoakleymusic\\nitsolihannaford</td>\n",
       "      <td>jasmineoakleymusic : https://tiktok.com/@bened...</td>\n",
       "      <td>instruments : guitar (15), bass (8), drums (1)...</td>\n",
       "    </tr>\n",
       "    <tr>\n",
       "      <th>1</th>\n",
       "      <td>johnmarknelson</td>\n",
       "      <td>music maker in los angeles</td>\n",
       "      <td>False</td>\n",
       "      <td>follower_count : 12600\\nfollowing_count : 76\\n...</td>\n",
       "      <td>christofersco21\\nsofiamillsmusic</td>\n",
       "      <td>christofersco21 : https://tiktok.com/@johnmark...</td>\n",
       "      <td>instruments : guitar (19), bass (19), piano (9...</td>\n",
       "    </tr>\n",
       "    <tr>\n",
       "      <th>2</th>\n",
       "      <td>jasmineoakleymusic</td>\n",
       "      <td>Artist, my debut single ‘Gone’ out now ⬇️</td>\n",
       "      <td>False</td>\n",
       "      <td>follower_count : 5522\\nfollowing_count : 67\\nl...</td>\n",
       "      <td>tenitinks1\\npastelmusique\\nbenedictquinn\\nthat...</td>\n",
       "      <td>tenitinks1 : https://tiktok.com/@jasmineoakley...</td>\n",
       "      <td>instruments : guitar (10), bass (3), piano (2)...</td>\n",
       "    </tr>\n",
       "  </tbody>\n",
       "</table>\n",
       "</div>"
      ],
      "text/plain": [
       "            user_name                                          signature  \\\n",
       "0       benedictquinn  oh hey!\\r\\nguitarist and producer \\r\\ngo follo...   \n",
       "1      johnmarknelson                         music maker in los angeles   \n",
       "2  jasmineoakleymusic          Artist, my debut single ‘Gone’ out now ⬇️   \n",
       "\n",
       "   verified                                        basic_stats  \\\n",
       "0     False  follower_count : 814\\nfollowing_count : 143\\nl...   \n",
       "1     False  follower_count : 12600\\nfollowing_count : 76\\n...   \n",
       "2     False  follower_count : 5522\\nfollowing_count : 67\\nl...   \n",
       "\n",
       "                                             collabs  \\\n",
       "0                jasmineoakleymusic\\nitsolihannaford   \n",
       "1                   christofersco21\\nsofiamillsmusic   \n",
       "2  tenitinks1\\npastelmusique\\nbenedictquinn\\nthat...   \n",
       "\n",
       "                                       music_collabs  \\\n",
       "0  jasmineoakleymusic : https://tiktok.com/@bened...   \n",
       "1  christofersco21 : https://tiktok.com/@johnmark...   \n",
       "2  tenitinks1 : https://tiktok.com/@jasmineoakley...   \n",
       "\n",
       "                                            hashtags  \n",
       "0  instruments : guitar (15), bass (8), drums (1)...  \n",
       "1  instruments : guitar (19), bass (19), piano (9...  \n",
       "2  instruments : guitar (10), bass (3), piano (2)...  "
      ]
     },
     "execution_count": 4,
     "metadata": {},
     "output_type": "execute_result"
    }
   ],
   "source": [
    "data = pd.read_csv('benedictquinn_300_music.csv')\n",
    "data.head(3)"
   ]
  },
  {
   "cell_type": "code",
   "execution_count": 5,
   "id": "conceptual-child",
   "metadata": {},
   "outputs": [],
   "source": [
    "instruments = []\n",
    "styles = []\n",
    "others = []\n",
    "collabs_df = []\n",
    "music_collabs_df = []\n",
    "follower_count = []\n",
    "following_count = []\n",
    "likes_count = []\n",
    "video_count = []\n",
    "last_active = []\n",
    "freq_post = []\n",
    "\n",
    "for i in range(len(data)):    \n",
    "    hashtags_cat = str(data.hashtags[i]).split('\\n')\n",
    "    hashtags_cat.pop()\n",
    "    hashtags_cat_words = [cat.split(': ')[1] for cat in hashtags_cat]\n",
    "    instr_all = hashtags_cat_words[0].split(', ')\n",
    "    if instr_all != [' ']:\n",
    "        instr = [i.split(' (')[0] for i in instr_all]\n",
    "    else:\n",
    "        instr = ['None']\n",
    "    sty_all = hashtags_cat_words[1].split(', ')\n",
    "    if sty_all != [' ']:\n",
    "        sty = [s.split(' (')[0] for s in sty_all]\n",
    "    else:\n",
    "        sty_count = [0]\n",
    "    othe = hashtags_cat_words[2].split(', ')\n",
    "    instruments.append(instr)\n",
    "    styles.append(sty)\n",
    "    others.append(othe)\n",
    "    \n",
    "    coll = str(data.collabs[i]).split(\"\\n\")\n",
    "    coll.pop()\n",
    "    collabs_df.append(coll)\n",
    "\n",
    "    music_coll = str(data.music_collabs[i]).split(\"\\n\")\n",
    "    music_coll.pop()\n",
    "    music_collabs_df.append(music_coll)\n",
    "    \n",
    "    stats_cat = data.basic_stats[i].split(\"\\n\")\n",
    "    stats_cat.pop()\n",
    "    stats_cat_words = [cat.split(':')[1] for cat in stats_cat]\n",
    "    follower_c = stats_cat_words[0]\n",
    "    following_c = stats_cat_words[1]\n",
    "    likes_c = stats_cat_words[2]\n",
    "    video_c = stats_cat_words[3]\n",
    "    last_a = stats_cat_words[4]\n",
    "    freq_p = str(stats_cat_words[5]).replace(' days', '')\n",
    "    follower_count.append(follower_c)\n",
    "    following_count.append(following_c)\n",
    "    likes_count.append(likes_c)\n",
    "    video_count.append(video_c)\n",
    "    last_active.append(last_a)\n",
    "    freq_post.append(freq_p)"
   ]
  },
  {
   "cell_type": "code",
   "execution_count": 6,
   "id": "dental-sleeve",
   "metadata": {},
   "outputs": [],
   "source": [
    "data['instruments'] = instruments\n",
    "data['styles'] = styles\n",
    "data['others'] = others\n",
    "data['collabs_df'] = collabs_df\n",
    "data['music_collabs_df'] = music_collabs_df\n",
    "data['follower_count'] = follower_count\n",
    "data['following_count'] = following_count\n",
    "data['likes_count'] = likes_count\n",
    "data['video_count'] = video_count\n",
    "data['last_active'] = last_active\n",
    "data['freq_post'] = freq_post\n",
    "data[['follower_count', 'following_count', 'likes_count', 'video_count','freq_post']] = data[['follower_count', 'following_count', 'likes_count', 'video_count','freq_post']].apply(pd.to_numeric)\n",
    "\n",
    "data = data.drop(['signature', 'basic_stats', 'collabs', 'music_collabs', 'hashtags'], axis=1)"
   ]
  },
  {
   "cell_type": "code",
   "execution_count": 7,
   "id": "naughty-lawrence",
   "metadata": {
    "scrolled": false
   },
   "outputs": [
    {
     "data": {
      "text/html": [
       "<div>\n",
       "<style scoped>\n",
       "    .dataframe tbody tr th:only-of-type {\n",
       "        vertical-align: middle;\n",
       "    }\n",
       "\n",
       "    .dataframe tbody tr th {\n",
       "        vertical-align: top;\n",
       "    }\n",
       "\n",
       "    .dataframe thead th {\n",
       "        text-align: right;\n",
       "    }\n",
       "</style>\n",
       "<table border=\"1\" class=\"dataframe\">\n",
       "  <thead>\n",
       "    <tr style=\"text-align: right;\">\n",
       "      <th></th>\n",
       "      <th>user_name</th>\n",
       "      <th>verified</th>\n",
       "      <th>instruments</th>\n",
       "      <th>styles</th>\n",
       "      <th>others</th>\n",
       "      <th>collabs_df</th>\n",
       "      <th>music_collabs_df</th>\n",
       "      <th>follower_count</th>\n",
       "      <th>following_count</th>\n",
       "      <th>likes_count</th>\n",
       "      <th>video_count</th>\n",
       "      <th>last_active</th>\n",
       "      <th>freq_post</th>\n",
       "    </tr>\n",
       "  </thead>\n",
       "  <tbody>\n",
       "    <tr>\n",
       "      <th>0</th>\n",
       "      <td>benedictquinn</td>\n",
       "      <td>False</td>\n",
       "      <td>[guitar, bass, drums, synth, chords]</td>\n",
       "      <td>[jazz, rnb, hiphop, indie, groove, neosoul, in...</td>\n",
       "      <td>[asktiktok, music, instrumental, chill, lofi, ...</td>\n",
       "      <td>[jasmineoakleymusic]</td>\n",
       "      <td>[jasmineoakleymusic : https://tiktok.com/@bene...</td>\n",
       "      <td>814</td>\n",
       "      <td>143</td>\n",
       "      <td>5005</td>\n",
       "      <td>70</td>\n",
       "      <td>2020-07-01</td>\n",
       "      <td>12</td>\n",
       "    </tr>\n",
       "    <tr>\n",
       "      <th>1</th>\n",
       "      <td>johnmarknelson</td>\n",
       "      <td>False</td>\n",
       "      <td>[guitar, bass, piano, drums]</td>\n",
       "      <td>[lofi]</td>\n",
       "      <td>[duet, greenscreen, guitar, bass, lofi, fy, fy...</td>\n",
       "      <td>[christofersco21]</td>\n",
       "      <td>[christofersco21 : https://tiktok.com/@johnmar...</td>\n",
       "      <td>12600</td>\n",
       "      <td>76</td>\n",
       "      <td>77000</td>\n",
       "      <td>82</td>\n",
       "      <td>2021-01-27</td>\n",
       "      <td>1</td>\n",
       "    </tr>\n",
       "    <tr>\n",
       "      <th>2</th>\n",
       "      <td>jasmineoakleymusic</td>\n",
       "      <td>False</td>\n",
       "      <td>[guitar, bass, piano, drums]</td>\n",
       "      <td>[jazz, rap, rnb, neosoul, gospel]</td>\n",
       "      <td>[fy, fyp, rnb, ifiaintgotyou, aliciakeys, ifia...</td>\n",
       "      <td>[tenitinks1, pastelmusique, benedictquinn]</td>\n",
       "      <td>[tenitinks1 : https://tiktok.com/@jasmineoakle...</td>\n",
       "      <td>5522</td>\n",
       "      <td>67</td>\n",
       "      <td>65700</td>\n",
       "      <td>66</td>\n",
       "      <td>2020-12-13</td>\n",
       "      <td>10</td>\n",
       "    </tr>\n",
       "    <tr>\n",
       "      <th>3</th>\n",
       "      <td>itsolihannaford</td>\n",
       "      <td>False</td>\n",
       "      <td>[bass, drums]</td>\n",
       "      <td>[jazz, neosoul, lofi]</td>\n",
       "      <td>[jazz, beats, lofibeats, neosoul, jam, jazzgui...</td>\n",
       "      <td>[benedictquinn]</td>\n",
       "      <td>[benedictquinn : https://tiktok.com/@itsolihan...</td>\n",
       "      <td>67</td>\n",
       "      <td>26</td>\n",
       "      <td>221</td>\n",
       "      <td>3</td>\n",
       "      <td>2020-08-06</td>\n",
       "      <td>8</td>\n",
       "    </tr>\n",
       "    <tr>\n",
       "      <th>4</th>\n",
       "      <td>sofiamillsmusic</td>\n",
       "      <td>False</td>\n",
       "      <td>[]</td>\n",
       "      <td>[]</td>\n",
       "      <td>[superbowl, 2022, originalsong, indieartist, f...</td>\n",
       "      <td>[jc0fc, rronniesings, lostmymarblesagain, plan...</td>\n",
       "      <td>[rronniesings : https://tiktok.com/@sofiamills...</td>\n",
       "      <td>3421</td>\n",
       "      <td>620</td>\n",
       "      <td>54000</td>\n",
       "      <td>201</td>\n",
       "      <td>2018-12-07</td>\n",
       "      <td>1</td>\n",
       "    </tr>\n",
       "  </tbody>\n",
       "</table>\n",
       "</div>"
      ],
      "text/plain": [
       "            user_name  verified                           instruments  \\\n",
       "0       benedictquinn     False  [guitar, bass, drums, synth, chords]   \n",
       "1      johnmarknelson     False          [guitar, bass, piano, drums]   \n",
       "2  jasmineoakleymusic     False          [guitar, bass, piano, drums]   \n",
       "3     itsolihannaford     False                         [bass, drums]   \n",
       "4     sofiamillsmusic     False                                    []   \n",
       "\n",
       "                                              styles  \\\n",
       "0  [jazz, rnb, hiphop, indie, groove, neosoul, in...   \n",
       "1                                             [lofi]   \n",
       "2                  [jazz, rap, rnb, neosoul, gospel]   \n",
       "3                              [jazz, neosoul, lofi]   \n",
       "4                                                 []   \n",
       "\n",
       "                                              others  \\\n",
       "0  [asktiktok, music, instrumental, chill, lofi, ...   \n",
       "1  [duet, greenscreen, guitar, bass, lofi, fy, fy...   \n",
       "2  [fy, fyp, rnb, ifiaintgotyou, aliciakeys, ifia...   \n",
       "3  [jazz, beats, lofibeats, neosoul, jam, jazzgui...   \n",
       "4  [superbowl, 2022, originalsong, indieartist, f...   \n",
       "\n",
       "                                          collabs_df  \\\n",
       "0                               [jasmineoakleymusic]   \n",
       "1                                  [christofersco21]   \n",
       "2         [tenitinks1, pastelmusique, benedictquinn]   \n",
       "3                                    [benedictquinn]   \n",
       "4  [jc0fc, rronniesings, lostmymarblesagain, plan...   \n",
       "\n",
       "                                    music_collabs_df  follower_count  \\\n",
       "0  [jasmineoakleymusic : https://tiktok.com/@bene...             814   \n",
       "1  [christofersco21 : https://tiktok.com/@johnmar...           12600   \n",
       "2  [tenitinks1 : https://tiktok.com/@jasmineoakle...            5522   \n",
       "3  [benedictquinn : https://tiktok.com/@itsolihan...              67   \n",
       "4  [rronniesings : https://tiktok.com/@sofiamills...            3421   \n",
       "\n",
       "   following_count  likes_count  video_count  last_active  freq_post  \n",
       "0              143         5005           70   2020-07-01         12  \n",
       "1               76        77000           82   2021-01-27          1  \n",
       "2               67        65700           66   2020-12-13         10  \n",
       "3               26          221            3   2020-08-06          8  \n",
       "4              620        54000          201   2018-12-07          1  "
      ]
     },
     "execution_count": 7,
     "metadata": {},
     "output_type": "execute_result"
    }
   ],
   "source": [
    "data.head(5)"
   ]
  },
  {
   "cell_type": "code",
   "execution_count": 8,
   "id": "stupid-excellence",
   "metadata": {},
   "outputs": [
    {
     "data": {
      "text/plain": [
       "<AxesSubplot:title={'center':'Distribution du nombre de followers par utilisateur'}, ylabel='Frequency'>"
      ]
     },
     "execution_count": 8,
     "metadata": {},
     "output_type": "execute_result"
    },
    {
     "data": {
      "image/png": "[encoded data removed]",
      "text/plain": [
       "<Figure size 792x432 with 1 Axes>"
      ]
     },
     "metadata": {},
     "output_type": "display_data"
    }
   ],
   "source": [
    "data.follower_count.plot.hist(title = 'Distribution du nombre de followers par utilisateur', figsize=(11, 6), bins=20)"
   ]
  },
  {
   "cell_type": "code",
   "execution_count": 9,
   "id": "scientific-assurance",
   "metadata": {},
   "outputs": [
    {
     "data": {
      "text/plain": [
       "<AxesSubplot:title={'center':'Distribution du nombre de followings par utilisateur'}, ylabel='Frequency'>"
      ]
     },
     "execution_count": 9,
     "metadata": {},
     "output_type": "execute_result"
    },
    {
     "data": {
      "image/png": "[encoded data removed]",
      "text/plain": [
       "<Figure size 792x432 with 1 Axes>"
      ]
     },
     "metadata": {},
     "output_type": "display_data"
    }
   ],
   "source": [
    "data[data['following_count'] < 3000].following_count.plot.hist(title = 'Distribution du nombre de followings par utilisateur', figsize=(11, 6), bins=20)"
   ]
  },
  {
   "cell_type": "code",
   "execution_count": 10,
   "id": "turned-subcommittee",
   "metadata": {},
   "outputs": [
    {
     "data": {
      "text/plain": [
       "<AxesSubplot:title={'center':'Distribution du nombre de likes par utilisateur'}, ylabel='Frequency'>"
      ]
     },
     "execution_count": 10,
     "metadata": {},
     "output_type": "execute_result"
    },
    {
     "data": {
      "image/png": "[encoded data removed]",
      "text/plain": [
       "<Figure size 792x432 with 1 Axes>"
      ]
     },
     "metadata": {},
     "output_type": "display_data"
    }
   ],
   "source": [
    "data[data['likes_count'] < 50000].likes_count.plot.hist(title = 'Distribution du nombre de likes par utilisateur', figsize=(11, 6), bins=20)"
   ]
  },
  {
   "cell_type": "code",
   "execution_count": 11,
   "id": "fifteen-allen",
   "metadata": {},
   "outputs": [
    {
     "data": {
      "text/plain": [
       "Text(0.5, 1.0, 'Nombre de collabs')"
      ]
     },
     "execution_count": 11,
     "metadata": {},
     "output_type": "execute_result"
    },
    {
     "data": {
      "image/png": "[encoded data removed]",
      "text/plain": [
       "<Figure size 792x432 with 1 Axes>"
      ]
     },
     "metadata": {},
     "output_type": "display_data"
    }
   ],
   "source": [
    "fig, ax = plt.subplots(figsize=(11,6))\n",
    "\n",
    "H = []\n",
    "for i in range(len(data)):\n",
    "    H.append(len(data.collabs_df[i]))\n",
    "counter = Counter(H)\n",
    "res = Counter({k: c for k, c in counter.items()})\n",
    "plt.bar(res.keys(), res.values())\n",
    "plt.title('Nombre de collabs')"
   ]
  },
  {
   "cell_type": "code",
   "execution_count": 12,
   "id": "catholic-tradition",
   "metadata": {},
   "outputs": [
    {
     "data": {
      "text/plain": [
       "Text(0.5, 1.0, 'Nombre de collabs musicales')"
      ]
     },
     "execution_count": 12,
     "metadata": {},
     "output_type": "execute_result"
    },
    {
     "data": {
      "image/png": "[encoded data removed]",
      "text/plain": [
       "<Figure size 792x432 with 1 Axes>"
      ]
     },
     "metadata": {},
     "output_type": "display_data"
    }
   ],
   "source": [
    "fig, ax = plt.subplots(figsize=(11,6))\n",
    "\n",
    "H = []\n",
    "for i in range(len(data)):\n",
    "    H.append(len(data.music_collabs_df[i]))\n",
    "counter = Counter(H)\n",
    "res = Counter({k: c for k, c in counter.items()})\n",
    "plt.bar(res.keys(), res.values())\n",
    "plt.title('Nombre de collabs musicales')"
   ]
  },
  {
   "cell_type": "code",
   "execution_count": 14,
   "id": "contemporary-friendly",
   "metadata": {},
   "outputs": [
    {
     "data": {
      "text/plain": [
       "Text(0.5, 1.0, 'Les hashtags les plus utilisés')"
      ]
     },
     "execution_count": 14,
     "metadata": {},
     "output_type": "execute_result"
    },
    {
     "name": "stderr",
     "output_type": "stream",
     "text": [
      "C:\\Users\\remij\\Miniconda3\\lib\\site-packages\\matplotlib\\backends\\backend_agg.py:238: RuntimeWarning: Glyph 12471 missing from current font.\n",
      "  font.set_text(s, 0.0, flags=flags)\n",
      "C:\\Users\\remij\\Miniconda3\\lib\\site-packages\\matplotlib\\backends\\backend_agg.py:201: RuntimeWarning: Glyph 12471 missing from current font.\n",
      "  font.set_text(s, 0, flags=flags)\n"
     ]
    },
    {
     "data": {
      "image/png": "[encoded data removed]",
      "text/plain": [
       "<Figure size 1152x432 with 1 Axes>"
      ]
     },
     "metadata": {},
     "output_type": "display_data"
    }
   ],
   "source": [
    "fig, ax = plt.subplots(figsize=(16,6))\n",
    "\n",
    "H = []\n",
    "for i in range(len(data)):\n",
    "    H_line = data.others[i]\n",
    "    for w in H_line:\n",
    "         H.append(w)\n",
    "\n",
    "counter = Counter(H)\n",
    "res = Counter({k: c for k, c in counter.items() if c > 15})\n",
    "plt.bar(res.keys(), res.values())\n",
    "plt.title('Les hashtags les plus utilisés')"
   ]
  },
  {
   "cell_type": "code",
   "execution_count": 15,
   "id": "satellite-breath",
   "metadata": {
    "scrolled": false
   },
   "outputs": [
    {
     "data": {
      "text/plain": [
       "Text(0.5, 1.0, 'Les instruments les plus cités')"
      ]
     },
     "execution_count": 15,
     "metadata": {},
     "output_type": "execute_result"
    },
    {
     "data": {
      "image/png": "[encoded data removed]",
      "text/plain": [
       "<Figure size 1152x432 with 1 Axes>"
      ]
     },
     "metadata": {},
     "output_type": "display_data"
    }
   ],
   "source": [
    "fig, ax = plt.subplots(figsize=(16,6))\n",
    "\n",
    "H = []\n",
    "for i in range(len(data)):\n",
    "    H_line = data.instruments[i]\n",
    "    for w in H_line:\n",
    "        if w:\n",
    "             H.append(w)\n",
    "\n",
    "counter = Counter(H)\n",
    "res = Counter({k: c for k, c in counter.items()})\n",
    "plt.bar(res.keys(), res.values())\n",
    "plt.title('Les instruments les plus cités')"
   ]
  },
  {
   "cell_type": "code",
   "execution_count": 16,
   "id": "experienced-reservation",
   "metadata": {},
   "outputs": [
    {
     "data": {
      "text/plain": [
       "Text(0.5, 1.0, 'Les styles les plus cités')"
      ]
     },
     "execution_count": 16,
     "metadata": {},
     "output_type": "execute_result"
    },
    {
     "data": {
      "image/png": "[encoded data removed]",
      "text/plain": [
       "<Figure size 1152x432 with 1 Axes>"
      ]
     },
     "metadata": {},
     "output_type": "display_data"
    }
   ],
   "source": [
    "fig, ax = plt.subplots(figsize=(16,6))\n",
    "\n",
    "H = []\n",
    "for i in range(len(data)):\n",
    "    H_line = data.styles[i]\n",
    "    for w in H_line:\n",
    "        if w:\n",
    "         H.append(w)\n",
    "\n",
    "counter = Counter(H)\n",
    "res = Counter({k: c for k, c in counter.items()})\n",
    "plt.bar(res.keys(), res.values())\n",
    "plt.title('Les styles les plus cités')"
   ]
  }
 ],
 "metadata": {
  "kernelspec": {
   "display_name": "Python 3",
   "language": "python",
   "name": "python3"
  },
  "language_info": {
   "codemirror_mode": {
    "name": "ipython",
    "version": 3
   },
   "file_extension": ".py",
   "mimetype": "text/x-python",
   "name": "python",
   "nbconvert_exporter": "python",
   "pygments_lexer": "ipython3",
   "version": "3.7.3"
  }
 },
 "nbformat": 4,
 "nbformat_minor": 5
}
