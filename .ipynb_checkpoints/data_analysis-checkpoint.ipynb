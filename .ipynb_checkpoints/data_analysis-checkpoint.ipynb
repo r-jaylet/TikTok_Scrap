{
 "cells": [
  {
   "cell_type": "code",
   "execution_count": 2,
   "id": "numerous-attendance",
   "metadata": {},
   "outputs": [],
   "source": [
    "import pandas as pd\n",
    "import numpy as np\n",
    "import ast\n",
    "from collections import Counter\n",
    "import matplotlib.pyplot as plt\n",
    "import seaborn"
   ]
  },
  {
   "cell_type": "code",
   "execution_count": 3,
   "id": "beginning-sandwich",
   "metadata": {},
   "outputs": [],
   "source": [
    "seaborn.set()"
   ]
  },
  {
   "cell_type": "code",
   "execution_count": 4,
   "id": "alive-setting",
   "metadata": {},
   "outputs": [
    {
     "data": {
      "text/html": [
       "<div>\n",
       "<style scoped>\n",
       "    .dataframe tbody tr th:only-of-type {\n",
       "        vertical-align: middle;\n",
       "    }\n",
       "\n",
       "    .dataframe tbody tr th {\n",
       "        vertical-align: top;\n",
       "    }\n",
       "\n",
       "    .dataframe thead th {\n",
       "        text-align: right;\n",
       "    }\n",
       "</style>\n",
       "<table border=\"1\" class=\"dataframe\">\n",
       "  <thead>\n",
       "    <tr style=\"text-align: right;\">\n",
       "      <th></th>\n",
       "      <th>user_name</th>\n",
       "      <th>signature</th>\n",
       "      <th>verified</th>\n",
       "      <th>basic_stats</th>\n",
       "      <th>collabs</th>\n",
       "      <th>music_collabs</th>\n",
       "      <th>hashtags</th>\n",
       "    </tr>\n",
       "  </thead>\n",
       "  <tbody>\n",
       "    <tr>\n",
       "      <th>0</th>\n",
       "      <td>benedictquinn</td>\n",
       "      <td>oh hey!\\r\\nguitarist and producer \\r\\ngo follo...</td>\n",
       "      <td>False</td>\n",
       "      <td>follower_count : 811\\nfollowing_count : 139\\nl...</td>\n",
       "      <td>jasmineoakleymusic\\nitsolihannaford\\naugie_bello</td>\n",
       "      <td>jasmineoakleymusic : https://tiktok.com/@bened...</td>\n",
       "      <td>instruments : guitar (16), bass (8), drums (1)...</td>\n",
       "    </tr>\n",
       "    <tr>\n",
       "      <th>1</th>\n",
       "      <td>jasmineoakleymusic</td>\n",
       "      <td>Artist, pre-save my debut single ‘Gone’ below</td>\n",
       "      <td>False</td>\n",
       "      <td>follower_count : 5524\\nfollowing_count : 64\\nl...</td>\n",
       "      <td>rubenwan\\ntenitinks1\\npastelmusique\\nbenedictq...</td>\n",
       "      <td>rubenwan : https://tiktok.com/@jasmineoakleymu...</td>\n",
       "      <td>instruments : guitar (13), bass (3), piano (2)...</td>\n",
       "    </tr>\n",
       "    <tr>\n",
       "      <th>2</th>\n",
       "      <td>itsolihannaford</td>\n",
       "      <td>Posting beats here and there</td>\n",
       "      <td>False</td>\n",
       "      <td>follower_count : 65\\nfollowing_count : 26\\nlik...</td>\n",
       "      <td>benedictquinn\\nnothing_neue</td>\n",
       "      <td>benedictquinn : https://tiktok.com/@itsolihann...</td>\n",
       "      <td>instruments : bass (1), drums (1)\\nstyles : ja...</td>\n",
       "    </tr>\n",
       "  </tbody>\n",
       "</table>\n",
       "</div>"
      ],
      "text/plain": [
       "            user_name                                          signature  \\\n",
       "0       benedictquinn  oh hey!\\r\\nguitarist and producer \\r\\ngo follo...   \n",
       "1  jasmineoakleymusic      Artist, pre-save my debut single ‘Gone’ below   \n",
       "2     itsolihannaford                       Posting beats here and there   \n",
       "\n",
       "   verified                                        basic_stats  \\\n",
       "0     False  follower_count : 811\\nfollowing_count : 139\\nl...   \n",
       "1     False  follower_count : 5524\\nfollowing_count : 64\\nl...   \n",
       "2     False  follower_count : 65\\nfollowing_count : 26\\nlik...   \n",
       "\n",
       "                                             collabs  \\\n",
       "0   jasmineoakleymusic\\nitsolihannaford\\naugie_bello   \n",
       "1  rubenwan\\ntenitinks1\\npastelmusique\\nbenedictq...   \n",
       "2                        benedictquinn\\nnothing_neue   \n",
       "\n",
       "                                       music_collabs  \\\n",
       "0  jasmineoakleymusic : https://tiktok.com/@bened...   \n",
       "1  rubenwan : https://tiktok.com/@jasmineoakleymu...   \n",
       "2  benedictquinn : https://tiktok.com/@itsolihann...   \n",
       "\n",
       "                                            hashtags  \n",
       "0  instruments : guitar (16), bass (8), drums (1)...  \n",
       "1  instruments : guitar (13), bass (3), piano (2)...  \n",
       "2  instruments : bass (1), drums (1)\\nstyles : ja...  "
      ]
     },
     "execution_count": 4,
     "metadata": {},
     "output_type": "execute_result"
    }
   ],
   "source": [
    "data = pd.read_csv('benedictquinn_200_music.csv')\n",
    "data.head(3)"
   ]
  },
  {
   "cell_type": "code",
   "execution_count": 5,
   "id": "conceptual-child",
   "metadata": {},
   "outputs": [],
   "source": [
    "instruments = []\n",
    "styles = []\n",
    "others = []\n",
    "collabs_df = []\n",
    "music_collabs_df = []\n",
    "follower_count = []\n",
    "following_count = []\n",
    "likes_count = []\n",
    "video_count = []\n",
    "last_active = []\n",
    "freq_post = []\n",
    "\n",
    "for i in range(len(data)):    \n",
    "    hashtags_cat = str(data.hashtags[i]).split('\\n')\n",
    "    hashtags_cat.pop()\n",
    "    hashtags_cat_words = [cat.split(': ')[1] for cat in hashtags_cat]\n",
    "    instr_all = hashtags_cat_words[0].split(', ')\n",
    "    if instr_all != [' ']:\n",
    "        instr = [i.split(' (')[0] for i in instr_all]\n",
    "    else:\n",
    "        instr = ['None']\n",
    "    sty_all = hashtags_cat_words[1].split(', ')\n",
    "    if sty_all != [' ']:\n",
    "        sty = [s.split(' (')[0] for s in sty_all]\n",
    "    else:\n",
    "        sty_count = [0]\n",
    "    othe = hashtags_cat_words[2].split(', ')\n",
    "    instruments.append(instr)\n",
    "    styles.append(sty)\n",
    "    others.append(othe)\n",
    "    \n",
    "    coll = str(data.collabs[i]).split(\"\\n\")\n",
    "    coll.pop()\n",
    "    collabs_df.append(coll)\n",
    "\n",
    "    music_coll = str(data.music_collabs[i]).split(\"\\n\")\n",
    "    music_coll.pop()\n",
    "    music_collabs_df.append(music_coll)\n",
    "    \n",
    "    stats_cat = data.basic_stats[i].split(\"\\n\")\n",
    "    stats_cat.pop()\n",
    "    stats_cat_words = [cat.split(':')[1] for cat in stats_cat]\n",
    "    follower_c = stats_cat_words[0]\n",
    "    following_c = stats_cat_words[1]\n",
    "    likes_c = stats_cat_words[2]\n",
    "    video_c = stats_cat_words[3]\n",
    "    last_a = stats_cat_words[4]\n",
    "    freq_p = str(stats_cat_words[5]).replace(' days', '')\n",
    "    follower_count.append(follower_c)\n",
    "    following_count.append(following_c)\n",
    "    likes_count.append(likes_c)\n",
    "    video_count.append(video_c)\n",
    "    last_active.append(last_a)\n",
    "    freq_post.append(freq_p)"
   ]
  },
  {
   "cell_type": "code",
   "execution_count": 6,
   "id": "dental-sleeve",
   "metadata": {},
   "outputs": [],
   "source": [
    "data['instruments'] = instruments\n",
    "data['styles'] = styles\n",
    "data['others'] = others\n",
    "data['collabs_df'] = collabs_df\n",
    "data['music_collabs_df'] = music_collabs_df\n",
    "data['follower_count'] = follower_count\n",
    "data['following_count'] = following_count\n",
    "data['likes_count'] = likes_count\n",
    "data['video_count'] = video_count\n",
    "data['last_active'] = last_active\n",
    "data['freq_post'] = freq_post\n",
    "data[['follower_count', 'following_count', 'likes_count', 'video_count','freq_post']] = data[['follower_count', 'following_count', 'likes_count', 'video_count','freq_post']].apply(pd.to_numeric)\n",
    "\n",
    "data = data.drop(['signature', 'verified', 'basic_stats', 'collabs', 'music_collabs', 'hashtags'], axis=1)"
   ]
  },
  {
   "cell_type": "code",
   "execution_count": 7,
   "id": "naughty-lawrence",
   "metadata": {
    "scrolled": false
   },
   "outputs": [
    {
     "data": {
      "text/html": [
       "<div>\n",
       "<style scoped>\n",
       "    .dataframe tbody tr th:only-of-type {\n",
       "        vertical-align: middle;\n",
       "    }\n",
       "\n",
       "    .dataframe tbody tr th {\n",
       "        vertical-align: top;\n",
       "    }\n",
       "\n",
       "    .dataframe thead th {\n",
       "        text-align: right;\n",
       "    }\n",
       "</style>\n",
       "<table border=\"1\" class=\"dataframe\">\n",
       "  <thead>\n",
       "    <tr style=\"text-align: right;\">\n",
       "      <th></th>\n",
       "      <th>user_name</th>\n",
       "      <th>instruments</th>\n",
       "      <th>styles</th>\n",
       "      <th>others</th>\n",
       "      <th>collabs_df</th>\n",
       "      <th>music_collabs_df</th>\n",
       "      <th>follower_count</th>\n",
       "      <th>following_count</th>\n",
       "      <th>likes_count</th>\n",
       "      <th>video_count</th>\n",
       "      <th>last_active</th>\n",
       "      <th>freq_post</th>\n",
       "    </tr>\n",
       "  </thead>\n",
       "  <tbody>\n",
       "    <tr>\n",
       "      <th>0</th>\n",
       "      <td>benedictquinn</td>\n",
       "      <td>[guitar, bass, drums, synth, chords, saxophone]</td>\n",
       "      <td>[jazz, rnb, hiphop, indie, groove, neosoul, in...</td>\n",
       "      <td>[asktiktok, music, instrumental, chill, lofi, ...</td>\n",
       "      <td>[jasmineoakleymusic, itsolihannaford]</td>\n",
       "      <td>[jasmineoakleymusic : https://tiktok.com/@bene...</td>\n",
       "      <td>811</td>\n",
       "      <td>139</td>\n",
       "      <td>4973</td>\n",
       "      <td>69</td>\n",
       "      <td>2021-11-03</td>\n",
       "      <td>9</td>\n",
       "    </tr>\n",
       "    <tr>\n",
       "      <th>1</th>\n",
       "      <td>jasmineoakleymusic</td>\n",
       "      <td>[guitar, bass, piano, drums]</td>\n",
       "      <td>[jazz, rap, rnb, neosoul, gospel]</td>\n",
       "      <td>[music, singer, riffs, riffsandruns, fy, fyp, ...</td>\n",
       "      <td>[rubenwan, tenitinks1, pastelmusique, benedict...</td>\n",
       "      <td>[rubenwan : https://tiktok.com/@jasmineoakleym...</td>\n",
       "      <td>5524</td>\n",
       "      <td>64</td>\n",
       "      <td>65400</td>\n",
       "      <td>63</td>\n",
       "      <td>2022-01-22</td>\n",
       "      <td>10</td>\n",
       "    </tr>\n",
       "    <tr>\n",
       "      <th>2</th>\n",
       "      <td>itsolihannaford</td>\n",
       "      <td>[bass, drums]</td>\n",
       "      <td>[jazz, neosoul, lofi]</td>\n",
       "      <td>[jazz, beats, lofibeats, neosoul, jam, jazzgui...</td>\n",
       "      <td>[benedictquinn]</td>\n",
       "      <td>[benedictquinn : https://tiktok.com/@itsolihan...</td>\n",
       "      <td>65</td>\n",
       "      <td>26</td>\n",
       "      <td>221</td>\n",
       "      <td>3</td>\n",
       "      <td>2021-04-21</td>\n",
       "      <td>8</td>\n",
       "    </tr>\n",
       "    <tr>\n",
       "      <th>3</th>\n",
       "      <td>tenitinks1</td>\n",
       "      <td>[]</td>\n",
       "      <td>[]</td>\n",
       "      <td>[hrsandhrs, munilonghourschallenge, victoriamo...</td>\n",
       "      <td>[]</td>\n",
       "      <td>[]</td>\n",
       "      <td>284</td>\n",
       "      <td>263</td>\n",
       "      <td>640</td>\n",
       "      <td>8</td>\n",
       "      <td>2022-01-04</td>\n",
       "      <td>54</td>\n",
       "    </tr>\n",
       "    <tr>\n",
       "      <th>4</th>\n",
       "      <td>pastelmusique</td>\n",
       "      <td>[]</td>\n",
       "      <td>[]</td>\n",
       "      <td>[celebritylookalike, newmusicartist, celebrity...</td>\n",
       "      <td>[tessaviolet, perfectprophet11, pastelmusique,...</td>\n",
       "      <td>[pastelmusique : https://tiktok.com/@pastelmus...</td>\n",
       "      <td>1263</td>\n",
       "      <td>96</td>\n",
       "      <td>6578</td>\n",
       "      <td>114</td>\n",
       "      <td>2022-01-26</td>\n",
       "      <td>0</td>\n",
       "    </tr>\n",
       "  </tbody>\n",
       "</table>\n",
       "</div>"
      ],
      "text/plain": [
       "            user_name                                      instruments  \\\n",
       "0       benedictquinn  [guitar, bass, drums, synth, chords, saxophone]   \n",
       "1  jasmineoakleymusic                     [guitar, bass, piano, drums]   \n",
       "2     itsolihannaford                                    [bass, drums]   \n",
       "3          tenitinks1                                               []   \n",
       "4       pastelmusique                                               []   \n",
       "\n",
       "                                              styles  \\\n",
       "0  [jazz, rnb, hiphop, indie, groove, neosoul, in...   \n",
       "1                  [jazz, rap, rnb, neosoul, gospel]   \n",
       "2                              [jazz, neosoul, lofi]   \n",
       "3                                                 []   \n",
       "4                                                 []   \n",
       "\n",
       "                                              others  \\\n",
       "0  [asktiktok, music, instrumental, chill, lofi, ...   \n",
       "1  [music, singer, riffs, riffsandruns, fy, fyp, ...   \n",
       "2  [jazz, beats, lofibeats, neosoul, jam, jazzgui...   \n",
       "3  [hrsandhrs, munilonghourschallenge, victoriamo...   \n",
       "4  [celebritylookalike, newmusicartist, celebrity...   \n",
       "\n",
       "                                          collabs_df  \\\n",
       "0              [jasmineoakleymusic, itsolihannaford]   \n",
       "1  [rubenwan, tenitinks1, pastelmusique, benedict...   \n",
       "2                                    [benedictquinn]   \n",
       "3                                                 []   \n",
       "4  [tessaviolet, perfectprophet11, pastelmusique,...   \n",
       "\n",
       "                                    music_collabs_df  follower_count  \\\n",
       "0  [jasmineoakleymusic : https://tiktok.com/@bene...             811   \n",
       "1  [rubenwan : https://tiktok.com/@jasmineoakleym...            5524   \n",
       "2  [benedictquinn : https://tiktok.com/@itsolihan...              65   \n",
       "3                                                 []             284   \n",
       "4  [pastelmusique : https://tiktok.com/@pastelmus...            1263   \n",
       "\n",
       "   following_count  likes_count  video_count  last_active  freq_post  \n",
       "0              139         4973           69   2021-11-03          9  \n",
       "1               64        65400           63   2022-01-22         10  \n",
       "2               26          221            3   2021-04-21          8  \n",
       "3              263          640            8   2022-01-04         54  \n",
       "4               96         6578          114   2022-01-26          0  "
      ]
     },
     "execution_count": 7,
     "metadata": {},
     "output_type": "execute_result"
    }
   ],
   "source": [
    "data.head(5)"
   ]
  },
  {
   "cell_type": "code",
   "execution_count": 16,
   "id": "historical-mixer",
   "metadata": {},
   "outputs": [
    {
     "data": {
      "text/html": [
       "<div>\n",
       "<style scoped>\n",
       "    .dataframe tbody tr th:only-of-type {\n",
       "        vertical-align: middle;\n",
       "    }\n",
       "\n",
       "    .dataframe tbody tr th {\n",
       "        vertical-align: top;\n",
       "    }\n",
       "\n",
       "    .dataframe thead th {\n",
       "        text-align: right;\n",
       "    }\n",
       "</style>\n",
       "<table border=\"1\" class=\"dataframe\">\n",
       "  <thead>\n",
       "    <tr style=\"text-align: right;\">\n",
       "      <th></th>\n",
       "      <th>user_name</th>\n",
       "      <th>instruments</th>\n",
       "      <th>styles</th>\n",
       "      <th>others</th>\n",
       "      <th>collabs_df</th>\n",
       "      <th>music_collabs_df</th>\n",
       "      <th>follower_count</th>\n",
       "      <th>following_count</th>\n",
       "      <th>likes_count</th>\n",
       "      <th>video_count</th>\n",
       "      <th>last_active</th>\n",
       "      <th>freq_post</th>\n",
       "    </tr>\n",
       "  </thead>\n",
       "  <tbody>\n",
       "    <tr>\n",
       "      <th>0</th>\n",
       "      <td>benedictquinn</td>\n",
       "      <td>[guitar, bass, drums, synth, chords, saxophone]</td>\n",
       "      <td>[jazz, rnb, hiphop, indie, groove, neosoul, in...</td>\n",
       "      <td>[asktiktok, music, instrumental, chill, lofi, ...</td>\n",
       "      <td>[jasmineoakleymusic, itsolihannaford]</td>\n",
       "      <td>[jasmineoakleymusic : https://tiktok.com/@bene...</td>\n",
       "      <td>811</td>\n",
       "      <td>139</td>\n",
       "      <td>4973</td>\n",
       "      <td>69</td>\n",
       "      <td>2021-11-03</td>\n",
       "      <td>9</td>\n",
       "    </tr>\n",
       "    <tr>\n",
       "      <th>1</th>\n",
       "      <td>jasmineoakleymusic</td>\n",
       "      <td>[guitar, bass, piano, drums]</td>\n",
       "      <td>[jazz, rap, rnb, neosoul, gospel]</td>\n",
       "      <td>[music, singer, riffs, riffsandruns, fy, fyp, ...</td>\n",
       "      <td>[rubenwan, tenitinks1, pastelmusique, benedict...</td>\n",
       "      <td>[rubenwan : https://tiktok.com/@jasmineoakleym...</td>\n",
       "      <td>5524</td>\n",
       "      <td>64</td>\n",
       "      <td>65400</td>\n",
       "      <td>63</td>\n",
       "      <td>2022-01-22</td>\n",
       "      <td>10</td>\n",
       "    </tr>\n",
       "    <tr>\n",
       "      <th>2</th>\n",
       "      <td>itsolihannaford</td>\n",
       "      <td>[bass, drums]</td>\n",
       "      <td>[jazz, neosoul, lofi]</td>\n",
       "      <td>[jazz, beats, lofibeats, neosoul, jam, jazzgui...</td>\n",
       "      <td>[benedictquinn]</td>\n",
       "      <td>[benedictquinn : https://tiktok.com/@itsolihan...</td>\n",
       "      <td>65</td>\n",
       "      <td>26</td>\n",
       "      <td>221</td>\n",
       "      <td>3</td>\n",
       "      <td>2021-04-21</td>\n",
       "      <td>8</td>\n",
       "    </tr>\n",
       "    <tr>\n",
       "      <th>3</th>\n",
       "      <td>tenitinks1</td>\n",
       "      <td>[]</td>\n",
       "      <td>[]</td>\n",
       "      <td>[hrsandhrs, munilonghourschallenge, victoriamo...</td>\n",
       "      <td>[]</td>\n",
       "      <td>[]</td>\n",
       "      <td>284</td>\n",
       "      <td>263</td>\n",
       "      <td>640</td>\n",
       "      <td>8</td>\n",
       "      <td>2022-01-04</td>\n",
       "      <td>54</td>\n",
       "    </tr>\n",
       "    <tr>\n",
       "      <th>4</th>\n",
       "      <td>pastelmusique</td>\n",
       "      <td>[]</td>\n",
       "      <td>[]</td>\n",
       "      <td>[celebritylookalike, newmusicartist, celebrity...</td>\n",
       "      <td>[tessaviolet, perfectprophet11, pastelmusique,...</td>\n",
       "      <td>[pastelmusique : https://tiktok.com/@pastelmus...</td>\n",
       "      <td>1263</td>\n",
       "      <td>96</td>\n",
       "      <td>6578</td>\n",
       "      <td>114</td>\n",
       "      <td>2022-01-26</td>\n",
       "      <td>0</td>\n",
       "    </tr>\n",
       "    <tr>\n",
       "      <th>...</th>\n",
       "      <td>...</td>\n",
       "      <td>...</td>\n",
       "      <td>...</td>\n",
       "      <td>...</td>\n",
       "      <td>...</td>\n",
       "      <td>...</td>\n",
       "      <td>...</td>\n",
       "      <td>...</td>\n",
       "      <td>...</td>\n",
       "      <td>...</td>\n",
       "      <td>...</td>\n",
       "      <td>...</td>\n",
       "    </tr>\n",
       "    <tr>\n",
       "      <th>195</th>\n",
       "      <td>jgershy</td>\n",
       "      <td>[drums]</td>\n",
       "      <td>[]</td>\n",
       "      <td>[fyp, foryoupage, clean, drummer, drumtok, mus...</td>\n",
       "      <td>[johnson_fran, _rone, phishon911, alexfrewmusic]</td>\n",
       "      <td>[]</td>\n",
       "      <td>2944</td>\n",
       "      <td>26</td>\n",
       "      <td>16700</td>\n",
       "      <td>8</td>\n",
       "      <td>2021-07-15</td>\n",
       "      <td>26</td>\n",
       "    </tr>\n",
       "    <tr>\n",
       "      <th>196</th>\n",
       "      <td>jjantos</td>\n",
       "      <td>[]</td>\n",
       "      <td>[]</td>\n",
       "      <td>[guitartok, sfgiants, baseball, shotgun, cowbo...</td>\n",
       "      <td>[]</td>\n",
       "      <td>[]</td>\n",
       "      <td>801</td>\n",
       "      <td>373</td>\n",
       "      <td>74400</td>\n",
       "      <td>4</td>\n",
       "      <td>2021-11-16</td>\n",
       "      <td>47</td>\n",
       "    </tr>\n",
       "    <tr>\n",
       "      <th>197</th>\n",
       "      <td>lindsayyscott</td>\n",
       "      <td>[guitar]</td>\n",
       "      <td>[]</td>\n",
       "      <td>[fyp, foryou, greenscreen, december, 2021, pho...</td>\n",
       "      <td>[abbiemacleodd, moosic.man, willbrunet8]</td>\n",
       "      <td>[]</td>\n",
       "      <td>126</td>\n",
       "      <td>983</td>\n",
       "      <td>1495</td>\n",
       "      <td>48</td>\n",
       "      <td>2022-01-22</td>\n",
       "      <td>9</td>\n",
       "    </tr>\n",
       "    <tr>\n",
       "      <th>198</th>\n",
       "      <td>brittelizabeth1</td>\n",
       "      <td>[guitar, chords]</td>\n",
       "      <td>[]</td>\n",
       "      <td>[musician, singersongwriter, independentartist...</td>\n",
       "      <td>[naomijoyturner, givemetheaux, bishlynne, timn...</td>\n",
       "      <td>[]</td>\n",
       "      <td>3408</td>\n",
       "      <td>1552</td>\n",
       "      <td>123300</td>\n",
       "      <td>596</td>\n",
       "      <td>2022-01-22</td>\n",
       "      <td>1</td>\n",
       "    </tr>\n",
       "    <tr>\n",
       "      <th>199</th>\n",
       "      <td>samg0i</td>\n",
       "      <td>[]</td>\n",
       "      <td>[]</td>\n",
       "      <td>[duet, mathrock, alt, midwestemo, emo, panchik...</td>\n",
       "      <td>[aresmodena, samg0i, kieronthemighty, elaayjia...</td>\n",
       "      <td>[samg0i : https://tiktok.com/@samg0i/video/696...</td>\n",
       "      <td>116</td>\n",
       "      <td>880</td>\n",
       "      <td>2157</td>\n",
       "      <td>53</td>\n",
       "      <td>2022-01-08</td>\n",
       "      <td>10</td>\n",
       "    </tr>\n",
       "  </tbody>\n",
       "</table>\n",
       "<p>200 rows × 12 columns</p>\n",
       "</div>"
      ],
      "text/plain": [
       "              user_name                                      instruments  \\\n",
       "0         benedictquinn  [guitar, bass, drums, synth, chords, saxophone]   \n",
       "1    jasmineoakleymusic                     [guitar, bass, piano, drums]   \n",
       "2       itsolihannaford                                    [bass, drums]   \n",
       "3            tenitinks1                                               []   \n",
       "4         pastelmusique                                               []   \n",
       "..                  ...                                              ...   \n",
       "195             jgershy                                          [drums]   \n",
       "196             jjantos                                               []   \n",
       "197       lindsayyscott                                         [guitar]   \n",
       "198     brittelizabeth1                                 [guitar, chords]   \n",
       "199              samg0i                                               []   \n",
       "\n",
       "                                                styles  \\\n",
       "0    [jazz, rnb, hiphop, indie, groove, neosoul, in...   \n",
       "1                    [jazz, rap, rnb, neosoul, gospel]   \n",
       "2                                [jazz, neosoul, lofi]   \n",
       "3                                                   []   \n",
       "4                                                   []   \n",
       "..                                                 ...   \n",
       "195                                                 []   \n",
       "196                                                 []   \n",
       "197                                                 []   \n",
       "198                                                 []   \n",
       "199                                                 []   \n",
       "\n",
       "                                                others  \\\n",
       "0    [asktiktok, music, instrumental, chill, lofi, ...   \n",
       "1    [music, singer, riffs, riffsandruns, fy, fyp, ...   \n",
       "2    [jazz, beats, lofibeats, neosoul, jam, jazzgui...   \n",
       "3    [hrsandhrs, munilonghourschallenge, victoriamo...   \n",
       "4    [celebritylookalike, newmusicartist, celebrity...   \n",
       "..                                                 ...   \n",
       "195  [fyp, foryoupage, clean, drummer, drumtok, mus...   \n",
       "196  [guitartok, sfgiants, baseball, shotgun, cowbo...   \n",
       "197  [fyp, foryou, greenscreen, december, 2021, pho...   \n",
       "198  [musician, singersongwriter, independentartist...   \n",
       "199  [duet, mathrock, alt, midwestemo, emo, panchik...   \n",
       "\n",
       "                                            collabs_df  \\\n",
       "0                [jasmineoakleymusic, itsolihannaford]   \n",
       "1    [rubenwan, tenitinks1, pastelmusique, benedict...   \n",
       "2                                      [benedictquinn]   \n",
       "3                                                   []   \n",
       "4    [tessaviolet, perfectprophet11, pastelmusique,...   \n",
       "..                                                 ...   \n",
       "195   [johnson_fran, _rone, phishon911, alexfrewmusic]   \n",
       "196                                                 []   \n",
       "197           [abbiemacleodd, moosic.man, willbrunet8]   \n",
       "198  [naomijoyturner, givemetheaux, bishlynne, timn...   \n",
       "199  [aresmodena, samg0i, kieronthemighty, elaayjia...   \n",
       "\n",
       "                                      music_collabs_df  follower_count  \\\n",
       "0    [jasmineoakleymusic : https://tiktok.com/@bene...             811   \n",
       "1    [rubenwan : https://tiktok.com/@jasmineoakleym...            5524   \n",
       "2    [benedictquinn : https://tiktok.com/@itsolihan...              65   \n",
       "3                                                   []             284   \n",
       "4    [pastelmusique : https://tiktok.com/@pastelmus...            1263   \n",
       "..                                                 ...             ...   \n",
       "195                                                 []            2944   \n",
       "196                                                 []             801   \n",
       "197                                                 []             126   \n",
       "198                                                 []            3408   \n",
       "199  [samg0i : https://tiktok.com/@samg0i/video/696...             116   \n",
       "\n",
       "     following_count  likes_count  video_count  last_active  freq_post  \n",
       "0                139         4973           69   2021-11-03          9  \n",
       "1                 64        65400           63   2022-01-22         10  \n",
       "2                 26          221            3   2021-04-21          8  \n",
       "3                263          640            8   2022-01-04         54  \n",
       "4                 96         6578          114   2022-01-26          0  \n",
       "..               ...          ...          ...          ...        ...  \n",
       "195               26        16700            8   2021-07-15         26  \n",
       "196              373        74400            4   2021-11-16         47  \n",
       "197              983         1495           48   2022-01-22          9  \n",
       "198             1552       123300          596   2022-01-22          1  \n",
       "199              880         2157           53   2022-01-08         10  \n",
       "\n",
       "[200 rows x 12 columns]"
      ]
     },
     "execution_count": 16,
     "metadata": {},
     "output_type": "execute_result"
    }
   ],
   "source": [
    "data.music_collabs_df\n",
    "data"
   ]
  },
  {
   "cell_type": "code",
   "execution_count": 41,
   "id": "stupid-excellence",
   "metadata": {},
   "outputs": [
    {
     "data": {
      "text/plain": [
       "<AxesSubplot:title={'center':'Distribution du nombre de followers par utilisateurs'}, ylabel='Frequency'>"
      ]
     },
     "execution_count": 41,
     "metadata": {},
     "output_type": "execute_result"
    },
    {
     "data": {
      "image/png": "[encoded data removed]",
      "text/plain": [
       "<Figure size 792x432 with 1 Axes>"
      ]
     },
     "metadata": {},
     "output_type": "display_data"
    }
   ],
   "source": [
    "data.follower_count.plot.hist(title = 'Distribution du nombre de followers par utilisateurs', figsize=(11, 6), bins=20)"
   ]
  },
  {
   "cell_type": "code",
   "execution_count": 40,
   "id": "scientific-assurance",
   "metadata": {},
   "outputs": [
    {
     "data": {
      "text/plain": [
       "<AxesSubplot:title={'center':'Distribution du nombre de followings par utilisateurs'}, ylabel='Frequency'>"
      ]
     },
     "execution_count": 40,
     "metadata": {},
     "output_type": "execute_result"
    },
    {
     "data": {
      "image/png": "[encoded data removed]",
      "text/plain": [
       "<Figure size 792x432 with 1 Axes>"
      ]
     },
     "metadata": {},
     "output_type": "display_data"
    }
   ],
   "source": [
    "data[data['following_count'] < 3000].following_count.plot.hist(title = 'Distribution du nombre de followings par utilisateurs', figsize=(11, 6), bins=20)"
   ]
  },
  {
   "cell_type": "code",
   "execution_count": 32,
   "id": "turned-subcommittee",
   "metadata": {},
   "outputs": [
    {
     "data": {
      "text/plain": [
       "<AxesSubplot:title={'center':'Distrubituion du nombre de likes par utilisateurs'}, ylabel='Frequency'>"
      ]
     },
     "execution_count": 32,
     "metadata": {},
     "output_type": "execute_result"
    },
    {
     "data": {
      "image/png": "[encoded data removed]",
      "text/plain": [
       "<Figure size 792x432 with 1 Axes>"
      ]
     },
     "metadata": {},
     "output_type": "display_data"
    }
   ],
   "source": [
    "data[data['likes_count'] < 50000].likes_count.plot.hist(title = 'Distrubituion du nombre de likes par utilisateurs', figsize=(11, 6), bins=20)"
   ]
  },
  {
   "cell_type": "code",
   "execution_count": 33,
   "id": "fifteen-allen",
   "metadata": {},
   "outputs": [
    {
     "data": {
      "text/plain": [
       "Text(0.5, 1.0, 'Nombre de collabs')"
      ]
     },
     "execution_count": 33,
     "metadata": {},
     "output_type": "execute_result"
    },
    {
     "data": {
      "image/png": "[encoded data removed]",
      "text/plain": [
       "<Figure size 792x432 with 1 Axes>"
      ]
     },
     "metadata": {},
     "output_type": "display_data"
    }
   ],
   "source": [
    "fig, ax = plt.subplots(figsize=(11,6))\n",
    "\n",
    "H = []\n",
    "for i in range(len(data)):\n",
    "    H.append(len(data.collabs_df[i]))\n",
    "counter = Counter(H)\n",
    "res = Counter({k: c for k, c in counter.items()})\n",
    "plt.bar(res.keys(), res.values())\n",
    "plt.title('Nombre de collabs')"
   ]
  },
  {
   "cell_type": "code",
   "execution_count": 34,
   "id": "catholic-tradition",
   "metadata": {},
   "outputs": [
    {
     "data": {
      "text/plain": [
       "Text(0.5, 1.0, 'Nombre de collabs')"
      ]
     },
     "execution_count": 34,
     "metadata": {},
     "output_type": "execute_result"
    },
    {
     "data": {
      "image/png": "[encoded data removed]",
      "text/plain": [
       "<Figure size 792x432 with 1 Axes>"
      ]
     },
     "metadata": {},
     "output_type": "display_data"
    }
   ],
   "source": [
    "fig, ax = plt.subplots(figsize=(11,6))\n",
    "\n",
    "H = []\n",
    "for i in range(len(data)):\n",
    "    H.append(len(data.music_collabs_df[i]))\n",
    "counter = Counter(H)\n",
    "res = Counter({k: c for k, c in counter.items()})\n",
    "plt.bar(res.keys(), res.values())\n",
    "plt.title('Nombre de collabs')"
   ]
  },
  {
   "cell_type": "code",
   "execution_count": 39,
   "id": "contemporary-friendly",
   "metadata": {},
   "outputs": [
    {
     "data": {
      "text/plain": [
       "Text(0.5, 1.0, 'Les hashtags les plus utilisés')"
      ]
     },
     "execution_count": 39,
     "metadata": {},
     "output_type": "execute_result"
    },
    {
     "data": {
      "image/png": "[encoded data removed]",
      "text/plain": [
       "<Figure size 1152x432 with 1 Axes>"
      ]
     },
     "metadata": {},
     "output_type": "display_data"
    }
   ],
   "source": [
    "fig, ax = plt.subplots(figsize=(16,6))\n",
    "\n",
    "H = []\n",
    "for i in range(len(data)):\n",
    "    H_line = data.others[i]\n",
    "    for w in H_line:\n",
    "         H.append(w)\n",
    "\n",
    "counter = Counter(H)\n",
    "res = Counter({k: c for k, c in counter.items() if c > 20})\n",
    "plt.bar(res.keys(), res.values())\n",
    "plt.title('Les hashtags les plus utilisés')"
   ]
  },
  {
   "cell_type": "code",
   "execution_count": 36,
   "id": "satellite-breath",
   "metadata": {
    "scrolled": false
   },
   "outputs": [
    {
     "data": {
      "text/plain": [
       "Text(0.5, 1.0, 'Les instruments les plus cités')"
      ]
     },
     "execution_count": 36,
     "metadata": {},
     "output_type": "execute_result"
    },
    {
     "data": {
      "image/png": "[encoded data removed]",
      "text/plain": [
       "<Figure size 1152x432 with 1 Axes>"
      ]
     },
     "metadata": {},
     "output_type": "display_data"
    }
   ],
   "source": [
    "fig, ax = plt.subplots(figsize=(16,6))\n",
    "\n",
    "H = []\n",
    "for i in range(len(data)):\n",
    "    H_line = data.instruments[i]\n",
    "    for w in H_line:\n",
    "        if w:\n",
    "             H.append(w)\n",
    "\n",
    "counter = Counter(H)\n",
    "res = Counter({k: c for k, c in counter.items()})\n",
    "plt.bar(res.keys(), res.values())\n",
    "plt.title('Les instruments les plus cités')"
   ]
  },
  {
   "cell_type": "code",
   "execution_count": 37,
   "id": "experienced-reservation",
   "metadata": {},
   "outputs": [
    {
     "data": {
      "text/plain": [
       "Text(0.5, 1.0, 'Les styles les plus cités')"
      ]
     },
     "execution_count": 37,
     "metadata": {},
     "output_type": "execute_result"
    },
    {
     "data": {
      "image/png": "[encoded data removed]",
      "text/plain": [
       "<Figure size 1152x432 with 1 Axes>"
      ]
     },
     "metadata": {},
     "output_type": "display_data"
    }
   ],
   "source": [
    "fig, ax = plt.subplots(figsize=(16,6))\n",
    "\n",
    "H = []\n",
    "for i in range(len(data)):\n",
    "    H_line = data.styles[i]\n",
    "    for w in H_line:\n",
    "        if w:\n",
    "         H.append(w)\n",
    "\n",
    "counter = Counter(H)\n",
    "res = Counter({k: c for k, c in counter.items()})\n",
    "plt.bar(res.keys(), res.values())\n",
    "plt.title('Les styles les plus cités')"
   ]
  },
  {
   "cell_type": "code",
   "execution_count": null,
   "id": "rising-founder",
   "metadata": {},
   "outputs": [],
   "source": []
  },
  {
   "cell_type": "code",
   "execution_count": null,
   "id": "alpine-invitation",
   "metadata": {},
   "outputs": [],
   "source": []
  },
  {
   "cell_type": "code",
   "execution_count": null,
   "id": "secret-muslim",
   "metadata": {},
   "outputs": [],
   "source": []
  }
 ],
 "metadata": {
  "kernelspec": {
   "display_name": "Python 3",
   "language": "python",
   "name": "python3"
  },
  "language_info": {
   "codemirror_mode": {
    "name": "ipython",
    "version": 3
   },
   "file_extension": ".py",
   "mimetype": "text/x-python",
   "name": "python",
   "nbconvert_exporter": "python",
   "pygments_lexer": "ipython3",
   "version": "3.7.3"
  }
 },
 "nbformat": 4,
 "nbformat_minor": 5
}
